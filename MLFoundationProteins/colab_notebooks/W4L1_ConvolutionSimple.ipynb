{
  "nbformat": 4,
  "nbformat_minor": 0,
  "metadata": {
    "colab": {
      "name": "W4L1_ConvolutionSimple.ipynb",
      "provenance": [],
      "collapsed_sections": []
    },
    "kernelspec": {
      "name": "python3",
      "display_name": "Python 3"
    },
    "language_info": {
      "name": "python"
    }
  },
  "cells": [
    {
      "cell_type": "markdown",
      "source": [
        "#**Watching the effect of convolution filters**\n",
        "<font color='grey' size='1.5'> Created by Parisa Hosseinzadeh for *Machine learning for proteins*, Spring 2022. This notebook is adapted from [Samrat Sahoo](https://medium.com/analytics-vidhya/2d-convolution-using-python-numpy-43442ff5f381).\n",
        "\n",
        "Let's run the cells below to see the effect of a number of different kernels."
      ],
      "metadata": {
        "id": "-A4BqGLFz4ec"
      }
    },
    {
      "cell_type": "markdown",
      "source": [
        "## Importing modules"
      ],
      "metadata": {
        "id": "QJzn-rhM0Mj3"
      }
    },
    {
      "cell_type": "code",
      "execution_count": null,
      "metadata": {
        "id": "RRbaF28CtmSE"
      },
      "outputs": [],
      "source": [
        "import numpy as np\n",
        "import cv2\n",
        "from PIL import Image"
      ]
    },
    {
      "cell_type": "markdown",
      "source": [
        "## Defininf functions"
      ],
      "metadata": {
        "id": "KpLXOyIb0Pk5"
      }
    },
    {
      "cell_type": "code",
      "source": [
        "def processImage(image): \n",
        "  image = cv2.imread(image) \n",
        "  image = cv2.cvtColor(src=image, code=cv2.COLOR_BGR2GRAY) \n",
        "  return image"
      ],
      "metadata": {
        "id": "G83KCa-Dzakx"
      },
      "execution_count": null,
      "outputs": []
    },
    {
      "cell_type": "code",
      "source": [
        "def convolve2D(image, kernel, padding=0, strides=1):\n",
        "    # Cross Correlation\n",
        "    kernel = np.flipud(np.fliplr(kernel))\n",
        "\n",
        "    # Gather Shapes of Kernel + Image + Padding\n",
        "    xKernShape = kernel.shape[0]\n",
        "    yKernShape = kernel.shape[1]\n",
        "    xImgShape = image.shape[0]\n",
        "    yImgShape = image.shape[1]\n",
        "\n",
        "    # Shape of Output Convolution\n",
        "    xOutput = int(((xImgShape - xKernShape + 2 * padding) / strides) + 1)\n",
        "    yOutput = int(((yImgShape - yKernShape + 2 * padding) / strides) + 1)\n",
        "    output = np.zeros((xOutput, yOutput))\n",
        "\n",
        "    # Apply Equal Padding to All Sides\n",
        "    if padding != 0:\n",
        "        imagePadded = np.zeros((image.shape[0] + padding*2, image.shape[1] + padding*2))\n",
        "        imagePadded[int(padding):int(-1 * padding), int(padding):int(-1 * padding)] = image\n",
        "        print(imagePadded)\n",
        "    else:\n",
        "        imagePadded = image\n",
        "\n",
        "    # Iterate through image\n",
        "    for y in range(image.shape[1]):\n",
        "        # Exit Convolution\n",
        "        if y > image.shape[1] - yKernShape:\n",
        "            break\n",
        "        # Only Convolve if y has gone down by the specified Strides\n",
        "        if y % strides == 0:\n",
        "            for x in range(image.shape[0]):\n",
        "                # Go to next row once kernel is out of bounds\n",
        "                if x > image.shape[0] - xKernShape:\n",
        "                    break\n",
        "                try:\n",
        "                    # Only Convolve if x has moved by the specified Strides\n",
        "                    if x % strides == 0:\n",
        "                        output[x, y] = (kernel * imagePadded[x: x + xKernShape, y: y + yKernShape]).sum()\n",
        "                except:\n",
        "                    break\n",
        "\n",
        "    return output"
      ],
      "metadata": {
        "id": "LoU6TzmttpxJ"
      },
      "execution_count": null,
      "outputs": []
    },
    {
      "cell_type": "markdown",
      "source": [
        "## Loading and processing image"
      ],
      "metadata": {
        "id": "ilvzo9Up0Tg5"
      }
    },
    {
      "cell_type": "code",
      "source": [
        "image = processImage('duck_UO.jpeg')"
      ],
      "metadata": {
        "id": "lMc_PQf5txNx"
      },
      "execution_count": null,
      "outputs": []
    },
    {
      "cell_type": "code",
      "source": [
        "Image.fromarray(im)"
      ],
      "metadata": {
        "id": "2QHPYktFzhdk"
      },
      "execution_count": null,
      "outputs": []
    },
    {
      "cell_type": "markdown",
      "source": [
        "## Defininf Kernel and applying convolution"
      ],
      "metadata": {
        "id": "6fluH_cH0Vr_"
      }
    },
    {
      "cell_type": "code",
      "source": [
        "kernel = np.array([[-1, -1, -1], [-1, 8, -1], [-1, -1, -1]])"
      ],
      "metadata": {
        "id": "-11ide4UzqQs"
      },
      "execution_count": null,
      "outputs": []
    },
    {
      "cell_type": "code",
      "source": [
        "output = convolve2D(image, kernel, padding=2)"
      ],
      "metadata": {
        "id": "BUIgnNycvJ98"
      },
      "execution_count": null,
      "outputs": []
    },
    {
      "cell_type": "markdown",
      "source": [
        "## Observing the results"
      ],
      "metadata": {
        "id": "KoMen3E80YwE"
      }
    },
    {
      "cell_type": "code",
      "source": [
        "cv2.imwrite('2DConvolved.jpg', output)"
      ],
      "metadata": {
        "id": "3yhcGlQMuZdu",
        "colab": {
          "base_uri": "https://localhost:8080/"
        },
        "outputId": "cc9daa4a-8fdd-4ef1-ebd0-599dfdc1afee"
      },
      "execution_count": null,
      "outputs": [
        {
          "output_type": "execute_result",
          "data": {
            "text/plain": [
              "True"
            ]
          },
          "metadata": {},
          "execution_count": 33
        }
      ]
    }
  ]
}