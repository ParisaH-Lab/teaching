{
  "nbformat": 4,
  "nbformat_minor": 0,
  "metadata": {
    "colab": {
      "name": "W3L1_NNBasics.ipynb",
      "provenance": [],
      "collapsed_sections": [
        "C7FEjzb6_1Dx",
        "oqzmg7xN_36U",
        "73XqpDmJD1Aa",
        "Yb5ua-glFIEs",
        "q4-MR2-ICKpL",
        "coPxfcImHQqJ",
        "DJyBmHG-09-g"
      ]
    },
    "kernelspec": {
      "name": "python3",
      "display_name": "Python 3"
    },
    "language_info": {
      "name": "python"
    }
  },
  "cells": [
    {
      "cell_type": "markdown",
      "source": [
        "#**Basic concepts of neural nets**\n",
        "<font color='grey' size='1.5'> Created by Parisa Hosseinzadeh for *Machine learning for proteins*, Spring 2022. \n",
        "\n",
        "Today, we will work on a set of in-class activities to better learn the basic concepts underlying the function of a neural net."
      ],
      "metadata": {
        "id": "KzFQypEC_g__"
      }
    },
    {
      "cell_type": "markdown",
      "source": [
        "## Preparing for the run"
      ],
      "metadata": {
        "id": "KzmM42M3_xGw"
      }
    },
    {
      "cell_type": "markdown",
      "source": [
        "### Loading necessarily modules"
      ],
      "metadata": {
        "id": "C7FEjzb6_1Dx"
      }
    },
    {
      "cell_type": "code",
      "execution_count": null,
      "metadata": {
        "id": "RW25w541CyQa"
      },
      "outputs": [],
      "source": [
        "#importing modules necessary for plotting\n",
        "import pandas as pd\n",
        "import seaborn as sns\n",
        "import matplotlib.pyplot as plt\n",
        "import numpy as np\n",
        "import random\n",
        "import math"
      ]
    },
    {
      "cell_type": "markdown",
      "source": [
        "### definining necessary functions"
      ],
      "metadata": {
        "id": "oqzmg7xN_36U"
      }
    },
    {
      "cell_type": "code",
      "source": [
        "#@markdown Functions for plotting activation functions\n",
        "\n",
        "def plot_lin_func(a,b):\n",
        "  x= np.linspace(0,4,num=100)\n",
        "  fx = []\n",
        "  for i in range(len(x)):\n",
        "    fx.append(\n",
        "        (a*x[i]+b)\n",
        "    )\n",
        "\n",
        "  plt.plot(x,fx)\n",
        "\n",
        "def plot_nonlin_func(f, a, b):\n",
        "  x= np.linspace(0,4,num=100)\n",
        "  fx = []\n",
        "  for i in range(len(x)):\n",
        "    fx.append(\n",
        "        f(a*x[i]+b)\n",
        "    )\n",
        "\n",
        "  plt.plot(x,fx)\n",
        "\n",
        "def plot_nonlin_sum(f, all_a, all_b, num_l=1):\n",
        "  x= np.linspace(0,4,num=100)\n",
        "  fx = []\n",
        "  for i in range(len(x)):\n",
        "    sum = 0\n",
        "    for j in range(len(all_a)):\n",
        "      if num_l !=1:\n",
        "        sum += f(all_a[j]*x[i]+all_b[j])\n",
        "      else:\n",
        "        sum += all_a[j]*x[i]+all_b[j]\n",
        "    if num_l != 1:\n",
        "      fx.append(sum)\n",
        "    else:\n",
        "      fx.append(f(sum))\n",
        "\n",
        "  plt.plot(x,fx)"
      ],
      "metadata": {
        "cellView": "form",
        "id": "NsyGvgSzEaJt"
      },
      "execution_count": null,
      "outputs": []
    },
    {
      "cell_type": "code",
      "source": [
        "#@markdown sigmoid function, stable\n",
        "\n",
        "def stable_sigmoid(x):\n",
        "\n",
        "    sig = np.where(x < 0, np.exp(x)/(1 + np.exp(x)), 1/(1 + np.exp(-x)))\n",
        "    return sig"
      ],
      "metadata": {
        "cellView": "form",
        "id": "9G03JIto_9s2"
      },
      "execution_count": null,
      "outputs": []
    },
    {
      "cell_type": "code",
      "source": [
        "#@markdown defining step function for gradient descent\n",
        "\n",
        "def step_taker(x1,y1,step, s, gen_s,c):\n",
        "  arr_num = []\n",
        "  for i in [x1-step, x1, x1+step]:\n",
        "    if i < 0 or i > 9:\n",
        "        continue\n",
        "    for j in [y1-step, y1, y1+step]: \n",
        "      if j < 0 or j > 9:\n",
        "        continue\n",
        "      new_s = i*10 + j\n",
        "      arr_num.append(new_s)\n",
        "      gen_s[new_s] = s[new_s]\n",
        "      c[new_s] = 'lime'\n",
        "  c[x1*10+y1] = 'magenta'\n",
        "  plt.scatter(x,y, color=c, s=gen_s)\n",
        "\n",
        "  for i in arr_num:\n",
        "    c[i] = 'black'\n",
        "\n",
        "  return (gen_s, c)"
      ],
      "metadata": {
        "cellView": "form",
        "id": "W9qf3w6UAET-"
      },
      "execution_count": null,
      "outputs": []
    },
    {
      "cell_type": "markdown",
      "source": [
        "## On activation function\n",
        "\n",
        "In this section, we will be working on learning more about activation functions and why they matter."
      ],
      "metadata": {
        "id": "tihhkZP7ApE3"
      }
    },
    {
      "cell_type": "markdown",
      "source": [
        "### Linear activation\n",
        "\n",
        "Let's define 3 linear functions. As you may remember, linear functions have this format: `f(x) = a*x + b` where a defines the line slope and b is a constant and is the location where the line crosses the y axis.\n",
        "\n",
        "Let's define one linear line and take a look at how it looks."
      ],
      "metadata": {
        "id": "73XqpDmJD1Aa"
      }
    },
    {
      "cell_type": "code",
      "source": [
        "a1 =  ## give a number for slope\n",
        "b1 =  ## give a number for constant\n",
        "\n",
        "plot_lin_func(a1,b1)"
      ],
      "metadata": {
        "id": "mM9YpKMiDyN9"
      },
      "execution_count": null,
      "outputs": []
    },
    {
      "cell_type": "markdown",
      "source": [
        "Now let's define four more lines."
      ],
      "metadata": {
        "id": "jACmmrJuEvk_"
      }
    },
    {
      "cell_type": "code",
      "source": [
        "a2 = \n",
        "b2 = \n",
        "\n",
        "a3 = \n",
        "b3 = \n",
        "\n",
        "a4 = \n",
        "b4 = \n",
        "\n",
        "a5 = \n",
        "b5 = "
      ],
      "metadata": {
        "id": "785sPdRxEyK5"
      },
      "execution_count": null,
      "outputs": []
    },
    {
      "cell_type": "markdown",
      "source": [
        "Let's look at all the lines together."
      ],
      "metadata": {
        "id": "pq1tyD61E-hb"
      }
    },
    {
      "cell_type": "code",
      "source": [
        "plot_lin_func(a1,b1)\n",
        "plot_lin_func(a2,b2)\n",
        "plot_lin_func(a3,b3)\n",
        "plot_lin_func(a4,b4)\n",
        "plot_lin_func(a5,b5)"
      ],
      "metadata": {
        "id": "ElNK82GnE8aR"
      },
      "execution_count": null,
      "outputs": []
    },
    {
      "cell_type": "markdown",
      "source": [
        "#### Q1. Time to exercise\n",
        "\n",
        "What would the sum of these functions look like? \n",
        "\n",
        "How about if you multiply them by a constant number?\n",
        "\n",
        "Go through the following activities to find the anser."
      ],
      "metadata": {
        "id": "Yb5ua-glFIEs"
      }
    },
    {
      "cell_type": "code",
      "source": [
        "plot_lin_func((a1+a2+a3+a4+a5),(b1+b2+b3+b4+b5))"
      ],
      "metadata": {
        "id": "nwblVLo_FMJV"
      },
      "execution_count": null,
      "outputs": []
    },
    {
      "cell_type": "markdown",
      "source": [
        "Now let's see what happens if we multiple each function by a number like c."
      ],
      "metadata": {
        "id": "Jt0-_gB8FtWG"
      }
    },
    {
      "cell_type": "code",
      "source": [
        "c1 = \n",
        "c2 = \n",
        "c3 = \n",
        "c4 = \n",
        "c5 = "
      ],
      "metadata": {
        "id": "NbaYcU5MFWvJ"
      },
      "execution_count": null,
      "outputs": []
    },
    {
      "cell_type": "code",
      "source": [
        "plot_lin_func((a1+a2+a3+a4+a5),(b1+b2+b3+b4+b5))\n",
        "plot_lin_func((c1*a1 + c2*a2 + c3*a3 + c4*a4 + c5*a5),\n",
        "              (c1*b1 + c2*b2 + c3*b3 + c4*b4 + c5*b5))"
      ],
      "metadata": {
        "id": "VDXJsLDyF40i"
      },
      "execution_count": null,
      "outputs": []
    },
    {
      "cell_type": "markdown",
      "source": [
        "### Activation function\n",
        "\n",
        "Let's see what happens if we use a different function before these lines. Let's check to see what a function like sin() would do to a line."
      ],
      "metadata": {
        "id": "q4-MR2-ICKpL"
      }
    },
    {
      "cell_type": "code",
      "source": [
        "plot_lin_func(a1, b1)\n",
        "plot_nonlin_func(math.sin, a1, b1)"
      ],
      "metadata": {
        "id": "YB_DArCPGJ7Y"
      },
      "execution_count": null,
      "outputs": []
    },
    {
      "cell_type": "markdown",
      "source": [
        "Let's check and see how the sum of these lines looks like now."
      ],
      "metadata": {
        "id": "HvnwYKn5GwRG"
      }
    },
    {
      "cell_type": "code",
      "source": [
        "plot_nonlin_sum(math.sin, [a1,a2,a3,a4,a5], [b1,b2,b3,b4,b5])"
      ],
      "metadata": {
        "id": "nVkva0k-Gv2H"
      },
      "execution_count": null,
      "outputs": []
    },
    {
      "cell_type": "markdown",
      "source": [
        "#### Q2. Time to exercise\n",
        "\n",
        "What do you see when you use a sin function?\n",
        "\n",
        "Go through the next part of the code to see the effect of a sigmoid function. What do you see?"
      ],
      "metadata": {
        "id": "elR7760YHscU"
      }
    },
    {
      "cell_type": "markdown",
      "source": [
        "Let's try the sigmoid function. It's one of the most commonly used functions as an activation function in neural nets."
      ],
      "metadata": {
        "id": "tJJtR7nlHyQL"
      }
    },
    {
      "cell_type": "code",
      "source": [
        "plot_nonlin_func(stable_sigmoid, a1, b1)"
      ],
      "metadata": {
        "id": "Kq1g5gclIGOX"
      },
      "execution_count": null,
      "outputs": []
    },
    {
      "cell_type": "code",
      "source": [
        "plot_nonlin_sum(stable_sigmoid, \n",
        "                [a1,a2,a3,a4,a5],\n",
        "                [b1,b2,b3,b4,b5])"
      ],
      "metadata": {
        "id": "VJmP0Dk_IKpu"
      },
      "execution_count": null,
      "outputs": []
    },
    {
      "cell_type": "markdown",
      "source": [
        "### Deeper layers\n",
        "\n",
        "Let's see what happens if we add another layer to our network."
      ],
      "metadata": {
        "id": "coPxfcImHQqJ"
      }
    },
    {
      "cell_type": "markdown",
      "source": [
        "#### Q3. Time to exercise\n",
        "\n",
        "Run the cell below to see what happens if we combine the results of 5 neurons in 1 with sin function. \n",
        "\n",
        "What do you think would happen if we combined multiple neurons in multiple layers?"
      ],
      "metadata": {
        "id": "cjMt_4H4ICDt"
      }
    },
    {
      "cell_type": "code",
      "source": [
        "plot_nonlin_sum(math.sin, [a1,a2,a3,a4,a5], [b1,b2,b3,b4,b5], 2)"
      ],
      "metadata": {
        "id": "qOIY4wz_II1B"
      },
      "execution_count": null,
      "outputs": []
    },
    {
      "cell_type": "markdown",
      "source": [
        "#### Otpional: ReLu\n",
        "\n",
        "If you're interested, define the ReLu function and call the plotting function to see what you will get.\n",
        "\n",
        "```\n",
        "ReLu:\n",
        "y = 0 if X < 0\n",
        "y = x if X >= 0\n",
        "```"
      ],
      "metadata": {
        "id": "fYWUqYOx0KMg"
      }
    },
    {
      "cell_type": "code",
      "source": [
        "#@title Sample answer\n",
        "def ReLu(x):\n",
        "  if x < 0:\n",
        "    return 0\n",
        "  else:\n",
        "    return x\n",
        "\n",
        "plot_nonlin_sum(ReLu, [a1,a2,a3,a4,a5], [b1,b2,b3,b4,b5], 2)"
      ],
      "metadata": {
        "cellView": "form",
        "id": "FPDzJ2R60c-z"
      },
      "execution_count": null,
      "outputs": []
    },
    {
      "cell_type": "markdown",
      "source": [
        "## Gradient descent\n",
        "\n",
        "Let's play a game together. Run the cell below to set-up the game board.\n",
        "\n",
        "Enter the game board to add your results using [this link](https://tinyurl.com/2p82ey97)"
      ],
      "metadata": {
        "id": "DJyBmHG-09-g"
      }
    },
    {
      "cell_type": "code",
      "source": [
        "#@title Set up game board\n",
        "\n",
        "x = [0.0, 0.0, 0.0, 0.0, 0.0, 0.0, 0.0, 0.0, 0.0, 0.0,\n",
        "     1.0, 1.0, 1.0, 1.0, 1.0, 1.0, 1.0, 1.0, 1.0, 1.0,\n",
        "     2.0, 2.0, 2.0, 2.0, 2.0, 2.0, 2.0, 2.0, 2.0, 2.0,\n",
        "     3.0, 3.0, 3.0, 3.0, 3.0, 3.0, 3.0, 3.0, 3.0, 3.0,\n",
        "     4.0, 4.0, 4.0, 4.0, 4.0, 4.0, 4.0, 4.0, 4.0, 4.0,\n",
        "     5.0, 5.0, 5.0, 5.0, 5.0, 5.0, 5.0, 5.0, 5.0, 5.0,\n",
        "     6.0, 6.0, 6.0, 6.0, 6.0, 6.0, 6.0, 6.0, 6.0, 6.0, \n",
        "     7.0, 7.0, 7.0, 7.0, 7.0, 7.0, 7.0, 7.0, 7.0, 7.0,\n",
        "     8.0, 8.0, 8.0, 8.0, 8.0, 8.0, 8.0, 8.0, 8.0, 8.0,\n",
        "     9.0, 9.0, 9.0, 9.0, 9.0, 9.0, 9.0, 9.0, 9.0, 9.0]\n",
        "y = [0.0, 1.0, 2.0, 3.0, 4.0, 5.0, 6.0, 7.0, 8.0, 9.0,\n",
        "     0.0, 1.0, 2.0, 3.0, 4.0, 5.0, 6.0, 7.0, 8.0, 9.0,\n",
        "     0.0, 1.0, 2.0, 3.0, 4.0, 5.0, 6.0, 7.0, 8.0, 9.0,\n",
        "     0.0, 1.0, 2.0, 3.0, 4.0, 5.0, 6.0, 7.0, 8.0, 9.0,\n",
        "     0.0, 1.0, 2.0, 3.0, 4.0, 5.0, 6.0, 7.0, 8.0, 9.0,\n",
        "     0.0, 1.0, 2.0, 3.0, 4.0, 5.0, 6.0, 7.0, 8.0, 9.0,\n",
        "     0.0, 1.0, 2.0, 3.0, 4.0, 5.0, 6.0, 7.0, 8.0, 9.0,\n",
        "     0.0, 1.0, 2.0, 3.0, 4.0, 5.0, 6.0, 7.0, 8.0, 9.0,\n",
        "     0.0, 1.0, 2.0, 3.0, 4.0, 5.0, 6.0, 7.0, 8.0, 9.0,\n",
        "     0.0, 1.0, 2.0, 3.0, 4.0, 5.0, 6.0, 7.0, 8.0, 9.0]\n",
        "\n",
        "s = [10, 10, 25, 50, 100, 50, 25, 10, 10, 10,\n",
        "     10, 25, 50, 100, 170, 100, 50, 25, 10, 10,\n",
        "     25, 50, 100, 170, 275, 170, 100, 50, 25, 10,\n",
        "     10, 25, 50, 100, 170, 100, 50, 25, 10, 10,\n",
        "     10, 10, 25, 50, 100, 25, 25, 10, 10, 10,\n",
        "     10, 10, 10, 25, 25, 50, 25, 25, 10, 10,\n",
        "     10, 10, 25, 50, 100, 200, 100, 50, 25, 10, \n",
        "     10, 25, 50, 100, 200, 350, 200, 100, 50, 10,\n",
        "     10, 10, 25, 50, 100, 200, 100, 50, 25, 10,\n",
        "     10, 10, 10, 25, 50, 100, 50, 25, 10, 10]\n",
        "\n",
        "gen_s = [10 for _ in range(len(x))]\n",
        "c = ['grey' for _ in range(len(x))]\n",
        "\n",
        "\n",
        "plt.scatter(x,y, color=c, s=10)"
      ],
      "metadata": {
        "cellView": "form",
        "id": "DnrVeFqBI7Cz"
      },
      "execution_count": null,
      "outputs": []
    },
    {
      "cell_type": "markdown",
      "source": [
        "In this board game, each circle represents a point in space. Each point has a value but you cannot see them right now. The goal of the game is to find the point with highest value as fast as possible.\n",
        "\n",
        "You will start by choosing a point in the grid and a step size. We will then show you the value for the point you picked and 6 points around it.\n",
        "\n",
        "Give it a try. The point you picked will be shown in magenta and the 6 new points that are revealed will be green. The size of each point corresponds to its value."
      ],
      "metadata": {
        "id": "CDDJjxQf1IXV"
      }
    },
    {
      "cell_type": "code",
      "source": [
        "x1 = \n",
        "y1 = \n",
        "step = \n",
        "\n",
        "gen_s, c = step_taker(x1, y1, step, s, gen_s, c)"
      ],
      "metadata": {
        "id": "8yZlzGT6OULG"
      },
      "execution_count": null,
      "outputs": []
    },
    {
      "cell_type": "markdown",
      "source": [
        "Based on the results above choose your next step. Simply repeat by changing the values given in the code cell below and re-running it.\n",
        "\n",
        "The black dots are the ones you observed before."
      ],
      "metadata": {
        "id": "qhkZLOEdQFuY"
      }
    },
    {
      "cell_type": "code",
      "source": [
        "x1 = \n",
        "y1 = \n",
        "step = \n",
        "\n",
        "gen_s, c = step_taker(x1, y1, step, s, gen_s, c)"
      ],
      "metadata": {
        "id": "s94YGUanQKed"
      },
      "execution_count": null,
      "outputs": []
    },
    {
      "cell_type": "markdown",
      "source": [
        "#### Q4. Time to exercise\n",
        "\n",
        "1. What is the point with highest value you found?\n",
        "2. How many tries did it take?\n",
        "3. What was your step size and starting point?\n",
        "4. What was your strategy?"
      ],
      "metadata": {
        "id": "oeftNVYW2PG0"
      }
    }
  ]
}