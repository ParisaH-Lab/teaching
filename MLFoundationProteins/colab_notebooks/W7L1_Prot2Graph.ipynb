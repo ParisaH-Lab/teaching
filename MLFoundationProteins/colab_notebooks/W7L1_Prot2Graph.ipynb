{
  "cells": [
    {
      "cell_type": "markdown",
      "source": [
        "#**Protein to graph**\n",
        "<font color='grey' size='1.5'> Created by Parisa Hosseinzadeh for *Machine learning for proteins*, Spring 2022. \n",
        "\n",
        "In today's in-class activity, we will learn how to go from a protein to a graph."
      ],
      "metadata": {
        "id": "m3BOfWc5c17b"
      }
    },
    {
      "cell_type": "markdown",
      "source": [
        "## Step 1. Preparation\n",
        "\n",
        "### 1.1. Installing biopandas\n",
        "\n",
        "[Biopandas](http://rasbt.github.io/biopandas/) is a library that allow easy loading and manipulating of biological structures."
      ],
      "metadata": {
        "id": "DSpUxDM_c-gt"
      }
    },
    {
      "cell_type": "code",
      "execution_count": null,
      "metadata": {
        "colab": {
          "base_uri": "https://localhost:8080/"
        },
        "id": "a_76gY4Y-Zae",
        "outputId": "103aa088-8a20-4b20-f3c6-3cf191ab7e7e"
      },
      "outputs": [
        {
          "output_type": "stream",
          "name": "stdout",
          "text": [
            "Collecting biopandas\n",
            "  Downloading biopandas-0.3.0-py2.py3-none-any.whl (272 kB)\n",
            "\u001b[?25l\r\u001b[K     |█▏                              | 10 kB 19.0 MB/s eta 0:00:01\r\u001b[K     |██▍                             | 20 kB 22.5 MB/s eta 0:00:01\r\u001b[K     |███▋                            | 30 kB 12.1 MB/s eta 0:00:01\r\u001b[K     |████▉                           | 40 kB 10.1 MB/s eta 0:00:01\r\u001b[K     |██████                          | 51 kB 4.4 MB/s eta 0:00:01\r\u001b[K     |███████▏                        | 61 kB 5.1 MB/s eta 0:00:01\r\u001b[K     |████████▍                       | 71 kB 5.7 MB/s eta 0:00:01\r\u001b[K     |█████████▋                      | 81 kB 4.1 MB/s eta 0:00:01\r\u001b[K     |██████████▉                     | 92 kB 4.5 MB/s eta 0:00:01\r\u001b[K     |████████████                    | 102 kB 5.0 MB/s eta 0:00:01\r\u001b[K     |█████████████▎                  | 112 kB 5.0 MB/s eta 0:00:01\r\u001b[K     |██████████████▍                 | 122 kB 5.0 MB/s eta 0:00:01\r\u001b[K     |███████████████▋                | 133 kB 5.0 MB/s eta 0:00:01\r\u001b[K     |████████████████▉               | 143 kB 5.0 MB/s eta 0:00:01\r\u001b[K     |██████████████████              | 153 kB 5.0 MB/s eta 0:00:01\r\u001b[K     |███████████████████▎            | 163 kB 5.0 MB/s eta 0:00:01\r\u001b[K     |████████████████████▌           | 174 kB 5.0 MB/s eta 0:00:01\r\u001b[K     |█████████████████████▋          | 184 kB 5.0 MB/s eta 0:00:01\r\u001b[K     |██████████████████████▉         | 194 kB 5.0 MB/s eta 0:00:01\r\u001b[K     |████████████████████████        | 204 kB 5.0 MB/s eta 0:00:01\r\u001b[K     |█████████████████████████▎      | 215 kB 5.0 MB/s eta 0:00:01\r\u001b[K     |██████████████████████████▌     | 225 kB 5.0 MB/s eta 0:00:01\r\u001b[K     |███████████████████████████▋    | 235 kB 5.0 MB/s eta 0:00:01\r\u001b[K     |████████████████████████████▉   | 245 kB 5.0 MB/s eta 0:00:01\r\u001b[K     |██████████████████████████████  | 256 kB 5.0 MB/s eta 0:00:01\r\u001b[K     |███████████████████████████████▎| 266 kB 5.0 MB/s eta 0:00:01\r\u001b[K     |████████████████████████████████| 272 kB 5.0 MB/s \n",
            "\u001b[?25hRequirement already satisfied: numpy>=1.16.2 in /usr/local/lib/python3.7/dist-packages (from biopandas) (1.21.6)\n",
            "Requirement already satisfied: setuptools in /usr/local/lib/python3.7/dist-packages (from biopandas) (57.4.0)\n",
            "Requirement already satisfied: pandas>=0.24.2 in /usr/local/lib/python3.7/dist-packages (from biopandas) (1.3.5)\n",
            "Requirement already satisfied: python-dateutil>=2.7.3 in /usr/local/lib/python3.7/dist-packages (from pandas>=0.24.2->biopandas) (2.8.2)\n",
            "Requirement already satisfied: pytz>=2017.3 in /usr/local/lib/python3.7/dist-packages (from pandas>=0.24.2->biopandas) (2022.1)\n",
            "Requirement already satisfied: six>=1.5 in /usr/local/lib/python3.7/dist-packages (from python-dateutil>=2.7.3->pandas>=0.24.2->biopandas) (1.15.0)\n",
            "Installing collected packages: biopandas\n",
            "Successfully installed biopandas-0.3.0\n"
          ]
        }
      ],
      "source": [
        "pip install biopandas #install biopandas"
      ]
    },
    {
      "cell_type": "markdown",
      "source": [
        "### 1.2. Loading libraries"
      ],
      "metadata": {
        "id": "A1OXSAbkdEVb"
      }
    },
    {
      "cell_type": "code",
      "execution_count": null,
      "metadata": {
        "id": "xmLawa8x9M4p"
      },
      "outputs": [],
      "source": [
        "#importing necessary packages\n",
        "import pandas as pd\n",
        "import typing\n",
        "from typing import Dict, List\n",
        "import numpy as np\n",
        "import seaborn as sns\n",
        "from sklearn.metrics import pairwise_distances\n",
        "import networkx as nx\n",
        "import matplotlib.pyplot as plt\n",
        "import os"
      ]
    },
    {
      "cell_type": "code",
      "execution_count": null,
      "metadata": {
        "id": "UaI8ufOA-iJS"
      },
      "outputs": [],
      "source": [
        "# Importing read pdb function from biopandas\n",
        "from biopandas.pdb import PandasPdb"
      ]
    },
    {
      "cell_type": "markdown",
      "source": [
        "## Step 2. Loading and preparing pdb file\n",
        "\n",
        "In this step, we will load our PDB and prepare it for graph generation. You can use an istalled pdb, but we will use an online structure the protein [azurin](https://www.rcsb.org/structure/1AZU) with **PDB ID: 1AZU**."
      ],
      "metadata": {
        "id": "16Ww0bT7diNJ"
      }
    },
    {
      "cell_type": "code",
      "execution_count": null,
      "metadata": {
        "id": "wRbBbiQchhqJ"
      },
      "outputs": [],
      "source": [
        "ppdb = PandasPdb().fetch_pdb(\"1AZU\")\n",
        "# Generating a new dataframe that only contains x,y,z coordinates of CA atoms\n",
        "## Getting chain A\n",
        "p_df = ppdb.df['ATOM'][ppdb.df['ATOM']['chain_id'] == 'A']"
      ]
    },
    {
      "cell_type": "markdown",
      "source": [
        "Let's take a look at how the pdb is loaded."
      ],
      "metadata": {
        "id": "y5iEMUDQers7"
      }
    },
    {
      "cell_type": "code",
      "source": [
        "p_df.head()"
      ],
      "metadata": {
        "id": "s_h6KnWzeuXG"
      },
      "execution_count": null,
      "outputs": []
    },
    {
      "cell_type": "markdown",
      "source": [
        "## Step 3. Generating distance map\n",
        "\n",
        "At this stage, we will create the distance map for our protein.\n",
        "\n",
        "You can see that it contains residue numbers, residue chains, atom IDs, among other information. For the purpose of this close, we're interested in the coordinates of \"CA\" atoms in PDB."
      ],
      "metadata": {
        "id": "JxX4ZJ36gaj_"
      }
    },
    {
      "cell_type": "markdown",
      "source": [
        "\n",
        "### 3.1. coordinate matrix\n",
        "\n",
        "**Practice time**: Can you generate a new dataframe that only contains the coordinates of *CA* atoms?"
      ],
      "metadata": {
        "id": "r2TeuVMhex6j"
      }
    },
    {
      "cell_type": "code",
      "source": [
        "# your code here"
      ],
      "metadata": {
        "id": "CC5Z9xkDfU_M"
      },
      "execution_count": null,
      "outputs": []
    },
    {
      "cell_type": "code",
      "source": [
        "#@markdown Sample code\n",
        "\n",
        "CA_vec_all = p_df.loc[p_df['atom_name'] == 'CA']\n",
        "CA_vec = CA_vec_all[['x_coord','y_coord','z_coord']]\n",
        "\n",
        "CA_vec.head()"
      ],
      "metadata": {
        "cellView": "form",
        "id": "kAMMJAG-fWKa"
      },
      "execution_count": null,
      "outputs": []
    },
    {
      "cell_type": "markdown",
      "source": [
        "#### Q1. What is the size of your list?\n",
        "\n",
        "What is the size of your list? In other words, how many residues does your protein have?"
      ],
      "metadata": {
        "id": "BixCesKGihk0"
      }
    },
    {
      "cell_type": "code",
      "source": [
        "# your code here"
      ],
      "metadata": {
        "id": "MvbpsNGPipaH"
      },
      "execution_count": null,
      "outputs": []
    },
    {
      "cell_type": "code",
      "source": [
        "#@markdown Sample code\n",
        "\n",
        "len(CA_vec)"
      ],
      "metadata": {
        "cellView": "form",
        "id": "bJmkGN54iqcm"
      },
      "execution_count": null,
      "outputs": []
    },
    {
      "cell_type": "markdown",
      "source": [
        "### 3.2. Changing formats\n",
        "\n",
        "This data is currently in the format of dataframe. To perform mathematical calculations, we need to change this to numpy array.\n",
        "\n",
        "**Practice time**: Write code to change dataframe to numpy array."
      ],
      "metadata": {
        "id": "aIdiqvuVfvwn"
      }
    },
    {
      "cell_type": "code",
      "source": [
        "# your code here"
      ],
      "metadata": {
        "id": "DxYrTI3if9op"
      },
      "execution_count": null,
      "outputs": []
    },
    {
      "cell_type": "code",
      "source": [
        "#@markdown Sample code\n",
        "\n",
        "# array generation\n",
        "vec_list = [np.array(\n",
        "              list(\n",
        "                  CA_vec.iloc[i])\n",
        "              ) for i in range(len(CA_vec)\n",
        "            )]\n",
        "\n",
        "# looking at first 5 elements\n",
        "vec_list[:5]"
      ],
      "metadata": {
        "cellView": "form",
        "id": "PvaceO40f-l5"
      },
      "execution_count": null,
      "outputs": []
    },
    {
      "cell_type": "markdown",
      "source": [
        "### 3.3. Distance map\n",
        "\n",
        "You can write a code to calculate all pairwise distances. Alternatively, you can use code that has been designed to do exactly this. We will be using [`pairwise_distances`](https://scikit-learn.org/stable/modules/generated/sklearn.metrics.pairwise_distances.html) function to generate the distance map.\n",
        "\n",
        "**Practice time**: Given your vector and using the instruction from the link above, generate pairwise distance matrix of your coordinates.\n",
        "\n",
        "NOTE: we use `'euclidean'` metric."
      ],
      "metadata": {
        "id": "QuNTNg_GgkvS"
      }
    },
    {
      "cell_type": "code",
      "source": [
        "# your code here"
      ],
      "metadata": {
        "id": "TyjNzZLThZd-"
      },
      "execution_count": null,
      "outputs": []
    },
    {
      "cell_type": "code",
      "source": [
        "#@markdown Sample code\n",
        "\n",
        "M = pairwise_distances(\n",
        "    vec_list, metric='euclidean'\n",
        ")\n",
        "\n",
        "M[:5]"
      ],
      "metadata": {
        "cellView": "form",
        "id": "XoZV0BvRhbPM"
      },
      "execution_count": null,
      "outputs": []
    },
    {
      "cell_type": "markdown",
      "source": [
        "#### Q2. Distance map heatmap\n",
        "\n",
        "Using [seaborn's heatmap](https://seaborn.pydata.org/generated/seaborn.heatmap.html), generate a heatmap of your matrix and submit to activity."
      ],
      "metadata": {
        "id": "HNF2qoX1hv0i"
      }
    },
    {
      "cell_type": "code",
      "source": [
        "# your code here"
      ],
      "metadata": {
        "id": "-i0w4WVxiTB-"
      },
      "execution_count": null,
      "outputs": []
    },
    {
      "cell_type": "code",
      "source": [
        "#@markdown Sample code\n",
        "\n",
        "sns.heatmap(M)"
      ],
      "metadata": {
        "cellView": "form",
        "id": "r2ko39UziUl_"
      },
      "execution_count": null,
      "outputs": []
    },
    {
      "cell_type": "markdown",
      "source": [
        "## Step 4. Generating the graph\n",
        "\n",
        "In this step, we will use the distance map to create a graph. We will use a package called [networkx](https://networkx.org/) for graph generation and manipulation."
      ],
      "metadata": {
        "id": "KGHAkyQYi_58"
      }
    },
    {
      "cell_type": "markdown",
      "source": [
        "### 4.1. Getting sequence information\n",
        "\n",
        "Each node in our graph will be a residue. Therefore, we need to extract sequence information from our protein.\n",
        "\n",
        "**Practice time**: From the dataframe, generate an array that contains all the sequences."
      ],
      "metadata": {
        "id": "Wem1ll9njKJd"
      }
    },
    {
      "cell_type": "code",
      "source": [
        "# your code here"
      ],
      "metadata": {
        "id": "Z9j2AHUyja1W"
      },
      "execution_count": null,
      "outputs": []
    },
    {
      "cell_type": "code",
      "source": [
        "#@markdown Sample code\n",
        "\n",
        "res_df=p_df.loc[\n",
        "                    p_df['atom_name'] == 'CA'\n",
        "                    ][['residue_name']]\n",
        "seq_array = list(res_df['residue_name'])\n",
        "\n",
        "seq_array[:5]"
      ],
      "metadata": {
        "cellView": "form",
        "id": "UT-u0Ijbjb3S"
      },
      "execution_count": null,
      "outputs": []
    },
    {
      "cell_type": "markdown",
      "source": [
        "### 4.2. Generate a graph\n",
        "\n",
        "The code below reads in residues, add them as nodes, and add an edge between them *if* the distance between them is less than 8å. Note that we're adding edge weights as 1/distance."
      ],
      "metadata": {
        "id": "hQ2wKKKSju7n"
      }
    },
    {
      "cell_type": "code",
      "execution_count": null,
      "metadata": {
        "id": "ackfeuqkthW2"
      },
      "outputs": [],
      "source": [
        "# preparing edge and node list\n",
        "G=nx.Graph()\n",
        "# adding nodes\n",
        "for i in range(len(vec_list)):\n",
        "  n1 = \"{}_{}\".format(\n",
        "      seq_array[i],i) ## <-- replace this by the name you gave to residue arrays\n",
        "  # Adding residue names as node labels\n",
        "  G.add_node(n1)\n",
        "  # for loop to add edges\n",
        "  for j in range(i+1, len(vec_list)):\n",
        "    n2 = \"{}_{}\".format(seq_array[j],j)\n",
        "    # Adding an edge between every pair closer than 8 A\n",
        "    if M[i][j] < 8:\n",
        "      # Weights are reverse proportional to distance\n",
        "      # Closer = higher weight\n",
        "      G.add_edge(n1, n2, weight=1/M[i][j])"
      ]
    },
    {
      "cell_type": "markdown",
      "source": [
        "#### Q3. Graph properties\n",
        "\n",
        "How many nodes and edges does your graph have? Is the node number consistent with the protein size? What does the edge number tell you?"
      ],
      "metadata": {
        "id": "yP_Z3Ksgknn8"
      }
    },
    {
      "cell_type": "code",
      "execution_count": null,
      "metadata": {
        "colab": {
          "base_uri": "https://localhost:8080/"
        },
        "id": "lHntV9DtuN9M",
        "outputId": "a2a95714-957d-4c39-dfdd-707302c13085"
      },
      "outputs": [
        {
          "output_type": "stream",
          "name": "stdout",
          "text": [
            "126\n",
            "616\n"
          ]
        }
      ],
      "source": [
        "print(G.number_of_nodes())\n",
        "print(G.number_of_edges())"
      ]
    },
    {
      "cell_type": "markdown",
      "source": [
        "### 4.3. Visualization\n",
        "\n",
        "Let's take a look at our graph.\n",
        "\n",
        "#### Q4. Graph picture\n",
        "\n",
        "Submit the image of your graph to your assignment."
      ],
      "metadata": {
        "id": "-utLjihpkzbx"
      }
    },
    {
      "cell_type": "code",
      "source": [
        "# setting up size of image\n",
        "fig, ax = plt.subplots(figsize=(15,8))\n",
        "\n",
        "# getting edge weights\n",
        "weights = list(nx.get_edge_attributes(G,'weight').values())\n",
        "\n",
        "# upwegithing edges\n",
        "up_weights = [i*5 for i in weights]\n",
        "\n",
        "#drawing\n",
        "nx.draw_spring(\n",
        "    G,\n",
        "    node_size=250,\n",
        "    node_color='orange',\n",
        "    width=up_weights,\n",
        "    with_labels=True,\n",
        "    edge_color='grey',\n",
        "    font_size=9\n",
        ")\n",
        "\n",
        "plt.show()"
      ],
      "metadata": {
        "id": "zwyFg_eQlwP8"
      },
      "execution_count": null,
      "outputs": []
    },
    {
      "cell_type": "markdown",
      "source": [
        "#### Q5. Change distance cut-off\n",
        "\n",
        "Change distance cut-off for edges to 5 and draw the graph again. Submit the graph. What differences do you see?"
      ],
      "metadata": {
        "id": "rmJjtM94qi1o"
      }
    }
  ],
  "metadata": {
    "colab": {
      "collapsed_sections": [],
      "name": "W7L1_Prot2Graph.ipynb",
      "provenance": []
    },
    "kernelspec": {
      "display_name": "Python 3",
      "name": "python3"
    },
    "language_info": {
      "name": "python"
    }
  },
  "nbformat": 4,
  "nbformat_minor": 0
}